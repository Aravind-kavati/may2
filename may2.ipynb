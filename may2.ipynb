{
 "cells": [
  {
   "cell_type": "markdown",
   "id": "c22d564d-c840-4b66-bb6a-8571847dfde4",
   "metadata": {},
   "source": [
    "Q1. What is anomaly detection and what is its purpose?\n",
    "Q2. What are the key challenges in anomaly detection?\n",
    "Q3. How does unsupervised anomaly detection differ from supervised anomaly detection?\n",
    "Q4. What are the main categories of anomaly detection algorithms?\n",
    "Q5. What are the main assumptions made by distance-based anomaly detection methods?\n",
    "Q6. How does the LOF algorithm compute anomaly scores?\n",
    "Q7. What are the key parameters of the Isolation Forest algorithm?\n",
    "Q8. If a data point has only 2 neighbours of the same class within a radius of 0.5, what is its anomaly score\n",
    "using KNN with K=10?\n",
    "Q9. Using the Isolation Forest algorithm with 100 trees and a dataset of 3000 data points, what is the\n",
    "anomaly score for a data point that has an average path length of 5.0 compared to the average path\n",
    "length of the trees?\n",
    "\n"
   ]
  },
  {
   "cell_type": "markdown",
   "id": "44e4e372-7526-4503-949d-d9bd98d33495",
   "metadata": {},
   "source": [
    "1)anomaly detetction is used to identify outliers or used to identify abnormal data points or unusual patterns in teh data"
   ]
  },
  {
   "cell_type": "markdown",
   "id": "061d1475-8693-430b-ba3a-e4b894456d7f",
   "metadata": {},
   "source": [
    "2)identfying global and local outliers,many no of decision trees are created this may lead to increase in time complexity if the data is huge\n"
   ]
  },
  {
   "cell_type": "markdown",
   "id": "4d8689c7-e2ec-42b3-8dae-9d6211741cab",
   "metadata": {},
   "source": [
    "3)Unsupervised anomaly detection does not require labeled training data and aims to identify anomalies solely based on the characteristics of the data itself. It seeks to discover patterns, structures, or deviations that are not present in the majority of the data. Supervised anomaly detection, on the other hand, uses labeled training data with both normal and anomalous instances to learn a model that can classify new instances as normal or anomalous."
   ]
  },
  {
   "cell_type": "markdown",
   "id": "0fa17da1-318d-44f6-a0bf-57f96d275a3a",
   "metadata": {},
   "source": [
    "4)anomaly detection uses isolation forest,DBSCAN,LOF"
   ]
  },
  {
   "cell_type": "markdown",
   "id": "667af0a4-f857-48e1-8414-ff9a5386227d",
   "metadata": {},
   "source": [
    "5)they ususally get split easily in decisiontree,the anomaly score is close to one"
   ]
  },
  {
   "cell_type": "markdown",
   "id": "b09ca0a6-4a83-4b11-88fe-1de274391532",
   "metadata": {},
   "source": [
    "6)The anomaly score of each sample is called the Local Outlier Factor. It measures the local deviation of the density of a given sample with respect to its neighbors. It is local in that the anomaly score depends on how isolated the object is with respect to the surrounding neighborhood. More precisely, locality is given by k-nearest neighbors, whose distance is used to estimate the local density. By comparing the local density of a sample to the local densities of its neighbors, one can identify samples that have a substantially lower density than their neighbors. These are considered outliers."
   ]
  },
  {
   "cell_type": "markdown",
   "id": "f0e6d454-d06f-4497-956f-b51137a2b9cf",
   "metadata": {},
   "source": [
    "7)n_estimators,contamination,bootstrap,max_features"
   ]
  },
  {
   "cell_type": "code",
   "execution_count": null,
   "id": "97c54b94-ade3-4bbc-888a-28182f351cfe",
   "metadata": {},
   "outputs": [],
   "source": [
    "8) we cannot calculate because the data has only two poi"
   ]
  }
 ],
 "metadata": {
  "kernelspec": {
   "display_name": "Python 3 (ipykernel)",
   "language": "python",
   "name": "python3"
  },
  "language_info": {
   "codemirror_mode": {
    "name": "ipython",
    "version": 3
   },
   "file_extension": ".py",
   "mimetype": "text/x-python",
   "name": "python",
   "nbconvert_exporter": "python",
   "pygments_lexer": "ipython3",
   "version": "3.10.8"
  }
 },
 "nbformat": 4,
 "nbformat_minor": 5
}
